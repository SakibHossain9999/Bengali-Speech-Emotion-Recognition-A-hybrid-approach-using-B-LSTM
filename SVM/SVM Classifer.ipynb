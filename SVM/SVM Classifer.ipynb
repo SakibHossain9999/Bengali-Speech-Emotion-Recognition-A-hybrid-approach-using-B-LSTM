{
 "cells": [
  {
   "cell_type": "code",
   "execution_count": 1,
   "metadata": {},
   "outputs": [
    {
     "name": "stdout",
     "output_type": "stream",
     "text": [
      "Requirement already satisfied: IPython in c:\\users\\sakib\\anaconda3\\lib\\site-packages (7.19.0)\n",
      "Requirement already satisfied: pygments in c:\\users\\sakib\\anaconda3\\lib\\site-packages (from IPython) (2.7.2)\n",
      "Requirement already satisfied: traitlets>=4.2 in c:\\users\\sakib\\anaconda3\\lib\\site-packages (from IPython) (5.0.5)\n",
      "Requirement already satisfied: prompt-toolkit!=3.0.0,!=3.0.1,<3.1.0,>=2.0.0 in c:\\users\\sakib\\anaconda3\\lib\\site-packages (from IPython) (3.0.8)\n",
      "Requirement already satisfied: jedi>=0.10 in c:\\users\\sakib\\anaconda3\\lib\\site-packages (from IPython) (0.17.1)\n",
      "Requirement already satisfied: pickleshare in c:\\users\\sakib\\anaconda3\\lib\\site-packages (from IPython) (0.7.5)\n",
      "Requirement already satisfied: decorator in c:\\users\\sakib\\anaconda3\\lib\\site-packages (from IPython) (4.4.2)\n",
      "Requirement already satisfied: backcall in c:\\users\\sakib\\anaconda3\\lib\\site-packages (from IPython) (0.2.0)\n",
      "Requirement already satisfied: setuptools>=18.5 in c:\\users\\sakib\\anaconda3\\lib\\site-packages (from IPython) (50.3.1.post20201107)\n",
      "Requirement already satisfied: colorama; sys_platform == \"win32\" in c:\\users\\sakib\\anaconda3\\lib\\site-packages (from IPython) (0.4.4)\n",
      "Requirement already satisfied: ipython-genutils in c:\\users\\sakib\\anaconda3\\lib\\site-packages (from traitlets>=4.2->IPython) (0.2.0)\n",
      "Requirement already satisfied: wcwidth in c:\\users\\sakib\\anaconda3\\lib\\site-packages (from prompt-toolkit!=3.0.0,!=3.0.1,<3.1.0,>=2.0.0->IPython) (0.2.5)\n",
      "Requirement already satisfied: parso<0.8.0,>=0.7.0 in c:\\users\\sakib\\anaconda3\\lib\\site-packages (from jedi>=0.10->IPython) (0.7.0)\n"
     ]
    }
   ],
   "source": [
    "!pip install IPython"
   ]
  },
  {
   "cell_type": "code",
   "execution_count": 2,
   "metadata": {},
   "outputs": [
    {
     "name": "stderr",
     "output_type": "stream",
     "text": [
      "C:\\Users\\Sakib\\anaconda3\\lib\\site-packages\\paramiko\\transport.py:219: CryptographyDeprecationWarning: Blowfish has been deprecated\n",
      "  \"class\": algorithms.Blowfish,\n"
     ]
    }
   ],
   "source": [
    "import pandas as pd\n",
    "import numpy as np\n",
    "import os\n",
    "import seaborn as sns\n",
    "import matplotlib.pyplot as plt\n",
    "import librosa\n",
    "import librosa.display\n",
    "from IPython.display import Audio\n",
    "import warnings\n",
    "warnings.filterwarnings('ignore')\n",
    "import scipy"
   ]
  },
  {
   "cell_type": "code",
   "execution_count": 3,
   "metadata": {},
   "outputs": [
    {
     "name": "stdout",
     "output_type": "stream",
     "text": [
      "dataset loading complete\n"
     ]
    }
   ],
   "source": [
    "labels =[]\n",
    "paths = []\n",
    "for dirname, _, filenames in os.walk('SUBESCO/'):\n",
    "    for filename in filenames:\n",
    "        paths.append(os.path.join(dirname, filename))\n",
    "        label = filename.split('_')[-2] + filename.split('_')[-1]\n",
    "        label = filename.split('_')[-2]\n",
    "        labels.append(label.lower())\n",
    "print('dataset loading complete')"
   ]
  },
  {
   "cell_type": "code",
   "execution_count": 4,
   "metadata": {},
   "outputs": [
    {
     "data": {
      "text/html": [
       "<div>\n",
       "<style scoped>\n",
       "    .dataframe tbody tr th:only-of-type {\n",
       "        vertical-align: middle;\n",
       "    }\n",
       "\n",
       "    .dataframe tbody tr th {\n",
       "        vertical-align: top;\n",
       "    }\n",
       "\n",
       "    .dataframe thead th {\n",
       "        text-align: right;\n",
       "    }\n",
       "</style>\n",
       "<table border=\"1\" class=\"dataframe\">\n",
       "  <thead>\n",
       "    <tr style=\"text-align: right;\">\n",
       "      <th></th>\n",
       "      <th>speech</th>\n",
       "      <th>label</th>\n",
       "    </tr>\n",
       "  </thead>\n",
       "  <tbody>\n",
       "    <tr>\n",
       "      <th>0</th>\n",
       "      <td>SUBESCO/F_01_OISHI_S_10_ANGRY_1.wav</td>\n",
       "      <td>angry</td>\n",
       "    </tr>\n",
       "    <tr>\n",
       "      <th>1</th>\n",
       "      <td>SUBESCO/F_01_OISHI_S_10_ANGRY_2.wav</td>\n",
       "      <td>angry</td>\n",
       "    </tr>\n",
       "    <tr>\n",
       "      <th>2</th>\n",
       "      <td>SUBESCO/F_01_OISHI_S_10_ANGRY_3.wav</td>\n",
       "      <td>angry</td>\n",
       "    </tr>\n",
       "    <tr>\n",
       "      <th>3</th>\n",
       "      <td>SUBESCO/F_01_OISHI_S_10_ANGRY_4.wav</td>\n",
       "      <td>angry</td>\n",
       "    </tr>\n",
       "    <tr>\n",
       "      <th>4</th>\n",
       "      <td>SUBESCO/F_01_OISHI_S_10_ANGRY_5.wav</td>\n",
       "      <td>angry</td>\n",
       "    </tr>\n",
       "  </tbody>\n",
       "</table>\n",
       "</div>"
      ],
      "text/plain": [
       "                                speech  label\n",
       "0  SUBESCO/F_01_OISHI_S_10_ANGRY_1.wav  angry\n",
       "1  SUBESCO/F_01_OISHI_S_10_ANGRY_2.wav  angry\n",
       "2  SUBESCO/F_01_OISHI_S_10_ANGRY_3.wav  angry\n",
       "3  SUBESCO/F_01_OISHI_S_10_ANGRY_4.wav  angry\n",
       "4  SUBESCO/F_01_OISHI_S_10_ANGRY_5.wav  angry"
      ]
     },
     "execution_count": 4,
     "metadata": {},
     "output_type": "execute_result"
    }
   ],
   "source": [
    "#creating a data frame\n",
    "df = pd.DataFrame()\n",
    "df['speech'] = paths\n",
    "df['label'] = labels\n",
    "df.head()"
   ]
  },
  {
   "cell_type": "code",
   "execution_count": 5,
   "metadata": {},
   "outputs": [],
   "source": [
    "#feature extraction using MFCC-\n",
    "def feature_extraction(filename, mfcc, chroma, mel):\n",
    "    d, srate = librosa.load(filename, duration=3, offset=0.5)\n",
    "    d=scipy.signal.wiener(d)\n",
    "    if chroma:\n",
    "        stft = np.abs(librosa.stft(d))\n",
    "        stft= librosa.amplitude_to_db(stft)\n",
    "    result = np.array([])\n",
    "    if mfcc:\n",
    "        mfccr = np.abs(np.mean(librosa.feature.mfcc(d, sr=srate, n_mfcc=23).T, axis=0))\n",
    "        result = np.hstack((result, mfccr))\n",
    "    if chroma:\n",
    "        chroma = np.abs(np.mean(librosa.feature.chroma_stft(S=stft, sr=srate).T, axis=0))\n",
    "        result = np.hstack((result, chroma))\n",
    "    if mel:\n",
    "        mel= np.mean(librosa.feature.melspectrogram(d, sr=srate, n_mels=40).T, axis=0)\n",
    "        mel = np.abs(librosa.power_to_db(mel))\n",
    "        result = np.hstack((result, mel))\n",
    "    return result"
   ]
  },
  {
   "cell_type": "code",
   "execution_count": 6,
   "metadata": {},
   "outputs": [
    {
     "data": {
      "text/plain": [
       "array([[1.57808637e+02, 7.20476797e+01, 1.12137017e+01, 1.71529251e+01,\n",
       "        4.02481386e-01, 2.02619339e+00, 2.90358293e+00, 5.91999467e+00,\n",
       "        5.09802873e+00, 8.65040254e-01, 2.74390924e+00, 4.17027529e+00,\n",
       "        1.36155973e+00, 6.69072583e-01, 3.10519883e+00, 3.49791117e+00,\n",
       "        2.26512739e+00, 2.31283607e+00, 2.82023226e+00, 9.91639352e-01,\n",
       "        1.20523873e+00, 1.23389252e+00, 5.27648686e+00, 7.49478991e-02,\n",
       "        1.31466609e-01, 1.85755776e-01, 1.80768686e-01, 1.73390973e-01,\n",
       "        9.11324158e-02, 1.49379427e-02, 2.61438862e-02, 2.32865749e-04,\n",
       "        2.10804511e-02, 4.72276354e-02, 5.01801436e-02, 6.53717953e+00,\n",
       "        1.41970466e+01, 2.21735475e+01, 2.11231019e+01, 1.80776107e+01,\n",
       "        1.95261605e+01, 2.06912832e+01, 1.95371887e+01, 1.42655738e+01,\n",
       "        1.53605605e+01, 1.60859566e+01, 1.11288477e+01, 8.92768297e+00,\n",
       "        1.26582730e+01, 1.04214744e+01, 8.12316226e+00, 1.26003335e+01,\n",
       "        1.16143275e+01, 8.40248529e+00, 7.63023873e+00, 5.66083946e+00,\n",
       "        5.15315949e+00, 3.85634081e+00, 4.34206925e+00, 6.03567198e+00,\n",
       "        4.21915745e+00, 1.27182394e+00, 1.08687323e+00, 1.98103945e-02,\n",
       "        2.15222494e+00, 4.34839001e+00, 3.24241591e+00, 4.75011696e+00,\n",
       "        6.69196305e+00, 8.04067531e+00, 8.94601655e+00, 9.35713251e+00,\n",
       "        1.13508696e+01, 1.21906043e+01, 1.19399165e+01]])"
      ]
     },
     "execution_count": 6,
     "metadata": {},
     "output_type": "execute_result"
    }
   ],
   "source": [
    "p=[feature_extraction(df['speech'][0], mfcc=True, chroma=True, mel=True)]\n",
    "np.array(p)"
   ]
  },
  {
   "cell_type": "code",
   "execution_count": 7,
   "metadata": {},
   "outputs": [],
   "source": [
    "X_features= df['speech'].apply(lambda x: feature_extraction(x, mfcc=True, chroma=True, mel=True))"
   ]
  },
  {
   "cell_type": "code",
   "execution_count": 8,
   "metadata": {},
   "outputs": [
    {
     "data": {
      "text/plain": [
       "(7000, 75)"
      ]
     },
     "execution_count": 8,
     "metadata": {},
     "output_type": "execute_result"
    }
   ],
   "source": [
    "#X-mfcc is in dataframe structure.. convert it into 2D array\n",
    "X=[x for x in X_features]\n",
    "np.array(X).shape"
   ]
  },
  {
   "cell_type": "markdown",
   "metadata": {},
   "source": [
    "# SVM Classifier"
   ]
  },
  {
   "cell_type": "code",
   "execution_count": 9,
   "metadata": {},
   "outputs": [
    {
     "name": "stdout",
     "output_type": "stream",
     "text": [
      "['angry' 'angry' 'angry' ... 'surprise' 'surprise' 'surprise']\n"
     ]
    }
   ],
   "source": [
    "df_shuffle=df.sample(frac=1)\n",
    "y_svm = df['label'].to_numpy()\n",
    "print(y_svm)"
   ]
  },
  {
   "cell_type": "code",
   "execution_count": null,
   "metadata": {},
   "outputs": [],
   "source": [
    "from sklearn.model_selection import train_test_split\n",
    "from sklearn.preprocessing import StandardScaler\n",
    "from sklearn.pipeline import Pipeline\n",
    "from sklearn.svm import SVC\n",
    "\n",
    "#splitting dataset into train/test sets\n",
    "X_train, X_test, y_train, y_test = train_test_split(np.array(X), y_svm, test_size=0.15)\n",
    "#Setup the pipeline steps: steps\n",
    "steps = [('scaler', StandardScaler()), ('SVM', SVC())]\n",
    "# Create the pipeline steps: steps\n",
    "pipeline = Pipeline(steps)\n",
    "#Fit the pipeline to the training set: svc_scaled\n",
    "svc_scaled= pipeline.fit(X_train, y_train)\n",
    "#Instantiate and fit a classifier to the unscaled data\n",
    "svc_unscaled = SVC(kernel = 'linear').fit(X_train, y_train)\n",
    "#Compute and print metrices\n",
    "print('Accuracy with scaling:{}'.format(svc_scaled.score(X_test, y_test)))\n",
    "print('Accuracy without scaling:{}'.format(svc_unscaled.score(X_test, y_test)))"
   ]
  },
  {
   "cell_type": "code",
   "execution_count": 12,
   "metadata": {},
   "outputs": [
    {
     "name": "stdout",
     "output_type": "stream",
     "text": [
      "----train accuracy score  86.16806722689076----\n",
      "----test accuracy score  81.33333333333333----\n"
     ]
    }
   ],
   "source": [
    "train_acc = float(svc_scaled.score(X_train, y_train)*100)\n",
    "print(\"----train accuracy score  %s----\" % train_acc )\n",
    "test_acc = float(svc_scaled.score(X_test, y_test)*100)\n",
    "print(\"----test accuracy score  %s----\" % test_acc )"
   ]
  },
  {
   "cell_type": "code",
   "execution_count": 13,
   "metadata": {},
   "outputs": [],
   "source": [
    "scaled_predictions = svc_scaled.predict(X_test)"
   ]
  },
  {
   "cell_type": "code",
   "execution_count": 14,
   "metadata": {},
   "outputs": [
    {
     "name": "stdout",
     "output_type": "stream",
     "text": [
      "Accuracy Score: 81.33%\n",
      "[[143  11   0   4   0   0   1]\n",
      " [ 15  93   6   9   2   3  11]\n",
      " [  1   4 134   4  10   4   7]\n",
      " [  0  12   0 105   6   4  11]\n",
      " [  0   2   0   1 136   6   0]\n",
      " [  0   2   5   3  16 128   7]\n",
      " [  7   9   6   5   2   0 115]]\n",
      "              precision    recall  f1-score   support\n",
      "\n",
      "       angry       0.86      0.90      0.88       159\n",
      "     disgust       0.70      0.67      0.68       139\n",
      "        fear       0.89      0.82      0.85       164\n",
      "       happy       0.80      0.76      0.78       138\n",
      "     neutral       0.79      0.94      0.86       145\n",
      "         sad       0.88      0.80      0.84       161\n",
      "    surprise       0.76      0.80      0.78       144\n",
      "\n",
      "    accuracy                           0.81      1050\n",
      "   macro avg       0.81      0.81      0.81      1050\n",
      "weighted avg       0.82      0.81      0.81      1050\n",
      "\n"
     ]
    }
   ],
   "source": [
    "from mlxtend.plotting import plot_confusion_matrix\n",
    "from sklearn.metrics import confusion_matrix, multilabel_confusion_matrix, accuracy_score, classification_report\n",
    "\n",
    "accuracy= accuracy_score(y_test, scaled_predictions)\n",
    "print(\"Accuracy Score: {:.2f}%\".format(accuracy*100))\n",
    "print(confusion_matrix(y_test, scaled_predictions))\n",
    "print(classification_report(y_test, scaled_predictions))"
   ]
  },
  {
   "cell_type": "code",
   "execution_count": 15,
   "metadata": {},
   "outputs": [
    {
     "data": {
      "text/plain": [
       "(<Figure size 576x576 with 1 Axes>,\n",
       " <AxesSubplot:xlabel='predicted label', ylabel='true label'>)"
      ]
     },
     "execution_count": 15,
     "metadata": {},
     "output_type": "execute_result"
    },
    {
     "data": {
      "image/png": "[encoded data removed]",
      "text/plain": [
       "<Figure size 576x576 with 1 Axes>"
      ]
     },
     "metadata": {
      "needs_background": "light"
     },
     "output_type": "display_data"
    }
   ],
   "source": [
    "class_names=['Angry', 'Disgust ', 'Fear', 'Happy', 'Neutral', 'Sad', 'Surprise']\n",
    "mat = confusion_matrix(y_test, scaled_predictions)\n",
    "plot_confusion_matrix(conf_mat=mat, figsize=(8,8), class_names=class_names, show_normed=True)"
   ]
  },
  {
   "cell_type": "code",
   "execution_count": 16,
   "metadata": {},
   "outputs": [
    {
     "name": "stdout",
     "output_type": "stream",
     "text": [
      "              precision    recall  f1-score   support\n",
      "\n",
      "       angry       0.86      0.90      0.88       159\n",
      "     disgust       0.70      0.67      0.68       139\n",
      "        fear       0.89      0.82      0.85       164\n",
      "       happy       0.80      0.76      0.78       138\n",
      "     neutral       0.79      0.94      0.86       145\n",
      "         sad       0.88      0.80      0.84       161\n",
      "    surprise       0.76      0.80      0.78       144\n",
      "\n",
      "    accuracy                           0.81      1050\n",
      "   macro avg       0.81      0.81      0.81      1050\n",
      "weighted avg       0.82      0.81      0.81      1050\n",
      "\n",
      "----accuracy score  81.33333333333333----\n"
     ]
    },
    {
     "data": {
      "image/png": "[encoded data removed]",
      "text/plain": [
       "<Figure size 432x288 with 2 Axes>"
      ]
     },
     "metadata": {
      "needs_background": "light"
     },
     "output_type": "display_data"
    }
   ],
   "source": [
    "from sklearn.metrics import confusion_matrix, multilabel_confusion_matrix, accuracy_score, classification_report\n",
    "import seaborn as sn\n",
    "\n",
    "print(classification_report(y_test, scaled_predictions))\n",
    "acc = float(accuracy_score(y_test, scaled_predictions))*100\n",
    "print(\"----accuracy score  %s----\" % acc)\n",
    "\n",
    "cm = confusion_matrix(y_test, scaled_predictions)\n",
    "df_cm = pd.DataFrame(cm)\n",
    "sn.heatmap(df_cm, annot=True, fmt='')\n",
    "plt.show()"
   ]
  },
  {
   "cell_type": "code",
   "execution_count": null,
   "metadata": {},
   "outputs": [],
   "source": []
  }
 ],
 "metadata": {
  "kernelspec": {
   "display_name": "Python 3",
   "language": "python",
   "name": "python3"
  },
  "language_info": {
   "codemirror_mode": {
    "name": "ipython",
    "version": 3
   },
   "file_extension": ".py",
   "mimetype": "text/x-python",
   "name": "python",
   "nbconvert_exporter": "python",
   "pygments_lexer": "ipython3",
   "version": "3.8.5"
  }
 },
 "nbformat": 4,
 "nbformat_minor": 4
}
